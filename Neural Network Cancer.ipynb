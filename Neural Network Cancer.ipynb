{
 "cells": [
  {
   "cell_type": "code",
   "execution_count": 1,
   "metadata": {
    "ExecuteTime": {
     "end_time": "2023-01-01T17:19:28.668001Z",
     "start_time": "2023-01-01T17:19:26.984076Z"
    }
   },
   "outputs": [],
   "source": [
    "%matplotlib inline \n",
    "# ensures that plost are embedded in the notebookimport os\n",
    "import numpy\n",
    "import matplotlib.pyplot as plt\n",
    "import matplotlib.mlab as mlab # mlab.normpdf(x, mu, sigma)\n",
    "import sklearn.datasets\n",
    "from sklearn.datasets import load_breast_cancer\n",
    "from sklearn.model_selection import train_test_split"
   ]
  },
  {
   "cell_type": "markdown",
   "metadata": {},
   "source": [
    "<h2>Load data</h2>"
   ]
  },
  {
   "cell_type": "code",
   "execution_count": 2,
   "metadata": {
    "ExecuteTime": {
     "end_time": "2023-01-01T17:19:28.688993Z",
     "start_time": "2023-01-01T17:19:28.669994Z"
    },
    "scrolled": false
   },
   "outputs": [
    {
     "name": "stdout",
     "output_type": "stream",
     "text": [
      "Dataset description:\n",
      "\t.. _breast_cancer_dataset:\n",
      "\n",
      "Breast cancer wisconsin (diagnostic) dataset\n",
      "--------------------------------------------\n",
      "\n",
      "**Data Set Characteristics:**\n",
      "\n",
      "    :Number of Instances: 569\n",
      "\n",
      "    :Number of Attributes: 30 numeric, predictive attributes and the class\n",
      "\n",
      "    :Attribute Information:\n",
      "        - radius (mean of distances from center to points on the perimeter)\n",
      "        - texture (standard deviation of gray-scale values)\n",
      "        - perimeter\n",
      "        - area\n",
      "        - smoothness (local variation in radius lengths)\n",
      "        - compactness (perimeter^2 / area - 1.0)\n",
      "        - concavity (severity of concave portions of the contour)\n",
      "        - concave points (number of concave portions of the contour)\n",
      "        - symmetry\n",
      "        - fractal dimension (\"coastline approximation\" - 1)\n",
      "\n",
      "        The mean, standard error, and \"worst\" or largest (mean of the three\n",
      "        worst/largest values) of these features were computed for each image,\n",
      "        resulting in 30 features.  For instance, field 0 is Mean Radius, field\n",
      "        10 is Radius SE, field 20 is Worst Radius.\n",
      "\n",
      "        - class:\n",
      "                - WDBC-Malignant\n",
      "                - WDBC-Benign\n",
      "\n",
      "    :Summary Statistics:\n",
      "\n",
      "    ===================================== ====== ======\n",
      "                                           Min    Max\n",
      "    ===================================== ====== ======\n",
      "    radius (mean):                        6.981  28.11\n",
      "    texture (mean):                       9.71   39.28\n",
      "    perimeter (mean):                     43.79  188.5\n",
      "    area (mean):                          143.5  2501.0\n",
      "    smoothness (mean):                    0.053  0.163\n",
      "    compactness (mean):                   0.019  0.345\n",
      "    concavity (mean):                     0.0    0.427\n",
      "    concave points (mean):                0.0    0.201\n",
      "    symmetry (mean):                      0.106  0.304\n",
      "    fractal dimension (mean):             0.05   0.097\n",
      "    radius (standard error):              0.112  2.873\n",
      "    texture (standard error):             0.36   4.885\n",
      "    perimeter (standard error):           0.757  21.98\n",
      "    area (standard error):                6.802  542.2\n",
      "    smoothness (standard error):          0.002  0.031\n",
      "    compactness (standard error):         0.002  0.135\n",
      "    concavity (standard error):           0.0    0.396\n",
      "    concave points (standard error):      0.0    0.053\n",
      "    symmetry (standard error):            0.008  0.079\n",
      "    fractal dimension (standard error):   0.001  0.03\n",
      "    radius (worst):                       7.93   36.04\n",
      "    texture (worst):                      12.02  49.54\n",
      "    perimeter (worst):                    50.41  251.2\n",
      "    area (worst):                         185.2  4254.0\n",
      "    smoothness (worst):                   0.071  0.223\n",
      "    compactness (worst):                  0.027  1.058\n",
      "    concavity (worst):                    0.0    1.252\n",
      "    concave points (worst):               0.0    0.291\n",
      "    symmetry (worst):                     0.156  0.664\n",
      "    fractal dimension (worst):            0.055  0.208\n",
      "    ===================================== ====== ======\n",
      "\n",
      "    :Missing Attribute Values: None\n",
      "\n",
      "    :Class Distribution: 212 - Malignant, 357 - Benign\n",
      "\n",
      "    :Creator:  Dr. William H. Wolberg, W. Nick Street, Olvi L. Mangasarian\n",
      "\n",
      "    :Donor: Nick Street\n",
      "\n",
      "    :Date: November, 1995\n",
      "\n",
      "This is a copy of UCI ML Breast Cancer Wisconsin (Diagnostic) datasets.\n",
      "https://goo.gl/U2Uwz2\n",
      "\n",
      "Features are computed from a digitized image of a fine needle\n",
      "aspirate (FNA) of a breast mass.  They describe\n",
      "characteristics of the cell nuclei present in the image.\n",
      "\n",
      "Separating plane described above was obtained using\n",
      "Multisurface Method-Tree (MSM-T) [K. P. Bennett, \"Decision Tree\n",
      "Construction Via Linear Programming.\" Proceedings of the 4th\n",
      "Midwest Artificial Intelligence and Cognitive Science Society,\n",
      "pp. 97-101, 1992], a classification method which uses linear\n",
      "programming to construct a decision tree.  Relevant features\n",
      "were selected using an exhaustive search in the space of 1-4\n",
      "features and 1-3 separating planes.\n",
      "\n",
      "The actual linear program used to obtain the separating plane\n",
      "in the 3-dimensional space is that described in:\n",
      "[K. P. Bennett and O. L. Mangasarian: \"Robust Linear\n",
      "Programming Discrimination of Two Linearly Inseparable Sets\",\n",
      "Optimization Methods and Software 1, 1992, 23-34].\n",
      "\n",
      "This database is also available through the UW CS ftp server:\n",
      "\n",
      "ftp ftp.cs.wisc.edu\n",
      "cd math-prog/cpo-dataset/machine-learn/WDBC/\n",
      "\n",
      ".. topic:: References\n",
      "\n",
      "   - W.N. Street, W.H. Wolberg and O.L. Mangasarian. Nuclear feature extraction \n",
      "     for breast tumor diagnosis. IS&T/SPIE 1993 International Symposium on \n",
      "     Electronic Imaging: Science and Technology, volume 1905, pages 861-870,\n",
      "     San Jose, CA, 1993.\n",
      "   - O.L. Mangasarian, W.N. Street and W.H. Wolberg. Breast cancer diagnosis and \n",
      "     prognosis via linear programming. Operations Research, 43(4), pages 570-577, \n",
      "     July-August 1995.\n",
      "   - W.H. Wolberg, W.N. Street, and O.L. Mangasarian. Machine learning techniques\n",
      "     to diagnose breast cancer from fine-needle aspirates. Cancer Letters 77 (1994) \n",
      "     163-171.\n",
      "Number of features: 30\n",
      "Number of observations 569\n",
      "Classes:\n",
      "\tmalignant\n",
      "\tbenign\n",
      "Tumor Features:\n",
      "\tmean radius\n",
      "\tmean texture\n",
      "\tmean perimeter\n",
      "\tmean area\n",
      "\tmean smoothness\n",
      "\tmean compactness\n",
      "\tmean concavity\n",
      "\tmean concave points\n",
      "\tmean symmetry\n",
      "\tmean fractal dimension\n",
      "\tradius error\n",
      "\ttexture error\n",
      "\tperimeter error\n",
      "\tarea error\n",
      "\tsmoothness error\n",
      "\tcompactness error\n",
      "\tconcavity error\n",
      "\tconcave points error\n",
      "\tsymmetry error\n",
      "\tfractal dimension error\n",
      "\tworst radius\n",
      "\tworst texture\n",
      "\tworst perimeter\n",
      "\tworst area\n",
      "\tworst smoothness\n",
      "\tworst compactness\n",
      "\tworst concavity\n",
      "\tworst concave points\n",
      "\tworst symmetry\n",
      "\tworst fractal dimension\n"
     ]
    }
   ],
   "source": [
    "cancer = load_breast_cancer()\n",
    "print('Dataset description:\\n\\t{0:s}'.format(cancer.DESCR))\n",
    "print('Number of features: {0:d}'.format(len(cancer.feature_names)))\n",
    "print('Number of observations {0:d}'.format(cancer.data.shape[0]))\n",
    "print('Classes:')\n",
    "for class_name in cancer.target_names:\n",
    "    print('\\t' + class_name)\n",
    "print('Tumor Features:')\n",
    "for feature_name in cancer.feature_names:\n",
    "    print('\\t' + feature_name)"
   ]
  },
  {
   "cell_type": "markdown",
   "metadata": {},
   "source": [
    "<h2>Prepare the data</h2>\n",
    "<ul>\n",
    "    <li>Split the data into training and test sets</li>\n",
    "    <li>Normalize the data using <i>sklearn.preprocessing.StandardScaler:</i><br>\n",
    "        Each feature is rescaled to have mean of 0 and std of 1    \n",
    "    </li>\n",
    "</ul>    \n",
    "\n",
    "ANN converges much better if the input data is scaled <br>\n",
    "Make sure to transform training & test data in exactly the same way"
   ]
  },
  {
   "cell_type": "code",
   "execution_count": 3,
   "metadata": {
    "ExecuteTime": {
     "end_time": "2023-01-01T17:19:28.695992Z",
     "start_time": "2023-01-01T17:19:28.689994Z"
    }
   },
   "outputs": [],
   "source": [
    "X_train, X_test, y_train, y_test = train_test_split(cancer['data'], cancer['target'])\n",
    "\n",
    "from sklearn.preprocessing import StandardScaler\n",
    "scaler = StandardScaler(copy=True, with_mean=True, with_std=True)\n",
    "\n",
    "X_train = scaler.fit_transform(X_train)\n",
    "X_test  = scaler.transform(X_test)"
   ]
  },
  {
   "cell_type": "code",
   "execution_count": 4,
   "metadata": {
    "ExecuteTime": {
     "end_time": "2023-01-01T17:19:28.704994Z",
     "start_time": "2023-01-01T17:19:28.697992Z"
    }
   },
   "outputs": [
    {
     "data": {
      "text/plain": [
       "(143, 30)"
      ]
     },
     "execution_count": 4,
     "metadata": {},
     "output_type": "execute_result"
    }
   ],
   "source": [
    "X_test.shape"
   ]
  },
  {
   "cell_type": "markdown",
   "metadata": {},
   "source": [
    "<h2>Train Multi-Layer Perceptron Classifier</h2>"
   ]
  },
  {
   "cell_type": "code",
   "execution_count": 5,
   "metadata": {
    "ExecuteTime": {
     "end_time": "2023-01-01T17:19:32.271593Z",
     "start_time": "2023-01-01T17:19:28.705997Z"
    }
   },
   "outputs": [
    {
     "name": "stdout",
     "output_type": "stream",
     "text": [
      "Model: \"sequential\"\n",
      "_________________________________________________________________\n",
      " Layer (type)                Output Shape              Param #   \n",
      "=================================================================\n",
      " dense (Dense)               (None, 15)                465       \n",
      "                                                                 \n",
      " dense_1 (Dense)             (None, 10)                160       \n",
      "                                                                 \n",
      " dense_2 (Dense)             (None, 1)                 11        \n",
      "                                                                 \n",
      "=================================================================\n",
      "Total params: 636\n",
      "Trainable params: 636\n",
      "Non-trainable params: 0\n",
      "_________________________________________________________________\n"
     ]
    }
   ],
   "source": [
    "from tensorflow.keras.models import Sequential\n",
    "from tensorflow.keras.layers import Dense\n",
    "mlp = Sequential()\n",
    "mlp.add(Dense(15, input_dim=30, activation='relu'))\n",
    "mlp.add(Dense(10, input_dim=15, activation='relu'))\n",
    "mlp.add(Dense(1, input_dim=10, activation='sigmoid'))\n",
    "mlp.summary()"
   ]
  },
  {
   "cell_type": "code",
   "execution_count": 6,
   "metadata": {
    "ExecuteTime": {
     "end_time": "2023-01-01T17:19:32.285593Z",
     "start_time": "2023-01-01T17:19:32.272593Z"
    }
   },
   "outputs": [],
   "source": [
    "mlp.compile(loss='binary_crossentropy', optimizer='adam', metrics=['accuracy'])"
   ]
  },
  {
   "cell_type": "code",
   "execution_count": 7,
   "metadata": {
    "ExecuteTime": {
     "end_time": "2023-01-01T17:19:35.612224Z",
     "start_time": "2023-01-01T17:19:32.286592Z"
    }
   },
   "outputs": [],
   "source": [
    "training_history = mlp.fit(X_train, y_train, epochs=1000, batch_size=len(X_train), verbose=0)"
   ]
  },
  {
   "cell_type": "markdown",
   "metadata": {},
   "source": [
    "<h2>Test the model</h2>\n",
    "Reminder: <br>\n",
    "<b>precision</b>: fraction of the instancies classfied as $Class_x$ that are actually $Class_x$<br>\n",
    "<b>recall</b>: fraction of the $Class_x$ instancies actually classified as $Class_x$<br>\n",
    "$F_1 = 2*\\frac{precision \\times recall}{precision + recall}$"
   ]
  },
  {
   "cell_type": "code",
   "execution_count": 8,
   "metadata": {
    "ExecuteTime": {
     "end_time": "2023-01-01T17:19:35.936223Z",
     "start_time": "2023-01-01T17:19:35.614223Z"
    }
   },
   "outputs": [
    {
     "name": "stdout",
     "output_type": "stream",
     "text": [
      "5/5 [==============================] - 0s 1ms/step - loss: 0.0882 - accuracy: 0.9650\n",
      "Model score: 0.965 (loss: 0.088)\n",
      "---------------------------------------------------------\n",
      "5/5 [==============================] - 0s 998us/step\n",
      "Known/Predicted\t\tmalignant\tbenign\n",
      "malignant\t\t56\t\t3\n",
      "benign\t\t\t2\t\t82\n",
      "---------------------------------------------------------\n",
      "              precision    recall  f1-score   support\n",
      "\n",
      "   malignant      0.966     0.949     0.957        59\n",
      "      benign      0.965     0.976     0.970        84\n",
      "\n",
      "    accuracy                          0.965       143\n",
      "   macro avg      0.965     0.963     0.964       143\n",
      "weighted avg      0.965     0.965     0.965       143\n",
      "\n"
     ]
    }
   ],
   "source": [
    "loss, accuracy = mlp.evaluate(X_test,y_test)\n",
    "print(f'Model score: {accuracy:3.3f} (loss: {loss:3.3f})')\n",
    "print('---------------------------------------------------------')\n",
    "from sklearn.metrics import confusion_matrix\n",
    "prediction = mlp.predict(X_test)>0.5\n",
    "C = confusion_matrix(y_test,prediction) \n",
    "# Cij : number of observations known to be in group i but predicted to be in group j\n",
    "print('Known/Predicted\\t\\t{0:s}\\t{1:s}'.format(cancer.target_names[0],cancer.target_names[1]))\n",
    "print('{0:s}\\t\\t{1:d}\\t\\t{2:d}'.format(cancer.target_names[0],C[0,0],C[0,1]))\n",
    "print('{0:s}\\t\\t\\t{1:d}\\t\\t{2:d}'.format(cancer.target_names[1],C[1,0],C[1,1]))\n",
    "print('---------------------------------------------------------')\n",
    "from sklearn.metrics import classification_report\n",
    "print(classification_report(y_test, prediction, target_names=cancer.target_names,digits=3)) \n"
   ]
  },
  {
   "cell_type": "code",
   "execution_count": 9,
   "metadata": {
    "ExecuteTime": {
     "end_time": "2023-01-01T17:19:35.943223Z",
     "start_time": "2023-01-01T17:19:35.937223Z"
    }
   },
   "outputs": [
    {
     "name": "stdout",
     "output_type": "stream",
     "text": [
      "Model Weight Dimenensions:\n",
      "\tLayer:0\n",
      "\t\tWeights shape:(30, 15)\n",
      "\t\tBiases shape:(15,)\n",
      "\tLayer:1\n",
      "\t\tWeights shape:(15, 10)\n",
      "\t\tBiases shape:(10,)\n",
      "\tLayer:2\n",
      "\t\tWeights shape:(10, 1)\n",
      "\t\tBiases shape:(1,)\n"
     ]
    }
   ],
   "source": [
    "print('Model Weight Dimenensions:')\n",
    "for i, layer in enumerate(mlp.layers):\n",
    "    print('\\tLayer:{0:d}'.format(i))\n",
    "    print(f'\\t\\tWeights shape:{layer.weights[0].shape}')\n",
    "    print(f'\\t\\tBiases shape:{layer.weights[1].shape}')"
   ]
  }
 ],
 "metadata": {
  "anaconda-cloud": {},
  "kernelspec": {
   "display_name": "Python 3 (ipykernel)",
   "language": "python",
   "name": "python3"
  },
  "language_info": {
   "codemirror_mode": {
    "name": "ipython",
    "version": 3
   },
   "file_extension": ".py",
   "mimetype": "text/x-python",
   "name": "python",
   "nbconvert_exporter": "python",
   "pygments_lexer": "ipython3",
   "version": "3.9.15"
  },
  "toc": {
   "base_numbering": 1,
   "nav_menu": {},
   "number_sections": true,
   "sideBar": true,
   "skip_h1_title": false,
   "title_cell": "Table of Contents",
   "title_sidebar": "Contents",
   "toc_cell": false,
   "toc_position": {},
   "toc_section_display": true,
   "toc_window_display": false
  }
 },
 "nbformat": 4,
 "nbformat_minor": 2
}
